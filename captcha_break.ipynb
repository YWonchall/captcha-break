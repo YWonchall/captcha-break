{
 "cells": [
  {
   "cell_type": "code",
   "execution_count": 13,
   "metadata": {},
   "outputs": [],
   "source": [
    "#!pip install flowvision\n",
    "#!pip install captcha"
   ]
  },
  {
   "cell_type": "code",
   "execution_count": 1,
   "metadata": {},
   "outputs": [
    {
     "name": "stderr",
     "output_type": "stream",
     "text": [
      "loaded library: /usr/lib/x86_64-linux-gnu/libibverbs.so.1\n"
     ]
    }
   ],
   "source": [
    "import oneflow as flow\n",
    "import oneflow.nn as nn\n",
    "import oneflow.nn.functional as F\n",
    "from oneflow.utils.data import Dataset, DataLoader\n",
    "from flowvision.transforms.functional import to_tensor, to_pil_image\n",
    "\n",
    "from captcha.image import ImageCaptcha\n",
    "from tqdm import tqdm\n",
    "import random\n",
    "import numpy as np\n",
    "from collections import OrderedDict\n",
    "import string\n",
    "\n"
   ]
  },
  {
   "cell_type": "code",
   "execution_count": 2,
   "metadata": {},
   "outputs": [
    {
     "name": "stdout",
     "output_type": "stream",
     "text": [
      "-0123456789abcdefghijklmnopqrstuvwxyzABCDEFGHIJKLMNOPQRSTUVWXYZ 192 64 4 63\n"
     ]
    }
   ],
   "source": [
    "characters = '-' + string.digits + string.ascii_letters\n",
    "width, height, n_len, n_classes = 192, 64, 4, len(characters)\n",
    "n_input_length = 12\n",
    "print(characters, width, height, n_len, n_classes)"
   ]
  },
  {
   "cell_type": "code",
   "execution_count": 3,
   "metadata": {},
   "outputs": [],
   "source": [
    "class CaptchaDataset(Dataset):\n",
    "    def __init__(self, characters, length, width, height, input_length, label_length):\n",
    "        super(CaptchaDataset, self).__init__()\n",
    "        self.characters = characters\n",
    "        self.length = length\n",
    "        self.width = width\n",
    "        self.height = height\n",
    "        self.input_length = input_length\n",
    "        self.label_length = label_length\n",
    "        self.n_class = len(characters)\n",
    "        self.generator = ImageCaptcha(width=width, height=height)\n",
    "\n",
    "    def __len__(self):\n",
    "        return self.length\n",
    "    \n",
    "    def __getitem__(self, index):\n",
    "        random_str = ''.join([random.choice(self.characters[1:]) for j in range(self.label_length)])\n",
    "        image = to_tensor(self.generator.generate_image(random_str))\n",
    "        target = flow.tensor([self.characters.find(x) for x in random_str], dtype=flow.long)\n",
    "        input_length = flow.full(size=(1, ), value=self.input_length, dtype=flow.long)\n",
    "        target_length = flow.full(size=(1, ), value=self.label_length, dtype=flow.long)\n",
    "        return image, target, input_length, target_length"
   ]
  },
  {
   "cell_type": "code",
   "execution_count": 4,
   "metadata": {},
   "outputs": [
    {
     "name": "stdout",
     "output_type": "stream",
     "text": [
      "Az6V tensor([12], dtype=oneflow.int64) tensor([4], dtype=oneflow.int64)\n"
     ]
    },
    {
     "data": {
      "image/png": "[encoded data removed]",
      "text/plain": [
       "<PIL.Image.Image image mode=RGB size=192x64>"
      ]
     },
     "execution_count": 4,
     "metadata": {},
     "output_type": "execute_result"
    }
   ],
   "source": [
    "dataset = CaptchaDataset(characters, 1, width, height, n_input_length, n_len)\n",
    "image, target, input_length, label_length = dataset[0] # X： img, y:index in characters\n",
    "print(''.join([characters[x] for x in target]), input_length, label_length)\n",
    "to_pil_image(image)"
   ]
  },
  {
   "cell_type": "code",
   "execution_count": 5,
   "metadata": {},
   "outputs": [],
   "source": [
    "batch_size = 128\n",
    "train_set = CaptchaDataset(characters, 1000 * batch_size, width, height, n_input_length, n_len)\n",
    "valid_set = CaptchaDataset(characters, 100 * batch_size, width, height, n_input_length, n_len)\n",
    "train_loader = DataLoader(train_set, batch_size=batch_size, num_workers=12)\n",
    "valid_loader = DataLoader(valid_set, batch_size=batch_size, num_workers=12)"
   ]
  },
  {
   "cell_type": "code",
   "execution_count": 6,
   "metadata": {},
   "outputs": [],
   "source": [
    "class Model(nn.Module):\n",
    "    def __init__(self, n_classes, input_shape=(3, 64, 192)):\n",
    "        super(Model, self).__init__()\n",
    "        self.input_shape = input_shape\n",
    "        channels = [32, 64, 128, 256, 256]\n",
    "        layers = [2, 2, 2, 2, 2]\n",
    "        pools = [2, 2, 2, 2, (2, 1)]\n",
    "\n",
    "        def block(num_convs, in_channels, out_channels):\n",
    "            lys = []\n",
    "            for _ in range(num_convs):\n",
    "                lys.append(nn.Conv2d(in_channels, out_channels, kernel_size=3, padding=(1, 1)))\n",
    "                lys.append(nn.BatchNorm2d(out_channels))\n",
    "                lys.append(nn.ReLU(inplace=True))\n",
    "                in_channels = out_channels\n",
    "            return nn.Sequential(*lys)\n",
    "\n",
    "        convs_blks = []\n",
    "        last_channels = 3\n",
    "        for  (num_convs, out_channels, k_pool) in zip( layers, channels, pools):\n",
    "            convs_blks.append(block(num_convs, last_channels,out_channels))\n",
    "            last_channels = out_channels\n",
    "            convs_blks.append(nn.MaxPool2d(k_pool))\n",
    "        \n",
    "        self.cnn = nn.Sequential(*convs_blks,nn.Dropout(0.25, inplace=True),)\n",
    "        self.lstm = nn.LSTM(input_size=self.infer_features(), hidden_size=128, num_layers=2, bidirectional=True)\n",
    "        self.fc = nn.Linear(in_features=256, out_features=n_classes)\n",
    "    \n",
    "    def infer_features(self):\n",
    "        x = flow.zeros((1,)+self.input_shape)\n",
    "        x = self.cnn(x)\n",
    "        x = x.reshape(x.shape[0], -1, x.shape[-1])\n",
    "        return x.shape[1]\n",
    "\n",
    "    def forward(self, x):\n",
    "        x = self.cnn(x)\n",
    "        x = x.reshape(x.shape[0], -1, x.shape[-1])\n",
    "        x = x.permute(2, 0, 1)\n",
    "        x, _ = self.lstm(x)\n",
    "        x = self.fc(x)\n",
    "        return x"
   ]
  },
  {
   "cell_type": "code",
   "execution_count": 7,
   "metadata": {},
   "outputs": [
    {
     "data": {
      "text/plain": [
       "oneflow.Size([12, 32, 63])"
      ]
     },
     "execution_count": 7,
     "metadata": {},
     "output_type": "execute_result"
    }
   ],
   "source": [
    "model = Model(n_classes, input_shape=(3, height, width)).cuda()\n",
    "inputs = flow.zeros((32, 3, height, width)).cuda()\n",
    "outputs = model(inputs)\n",
    "outputs.shape"
   ]
  },
  {
   "cell_type": "code",
   "execution_count": 243,
   "metadata": {},
   "outputs": [],
   "source": [
    "def rm_dup(s):\n",
    "    for i in range(len(s)-1):\n",
    "        if (s[i] == s[i+1] and s[i]!='-'):\n",
    "            s = np.delete(s,i)\n",
    "            return s\n",
    "    \n",
    "    return s[s!='-'][:4]\n",
    "def decode(sequence):\n",
    "    s = np.array([characters[x]  for x in sequence])\n",
    "    while((s !='-').sum()>4):\n",
    "        s = rm_dup(s)\n",
    "    #print(a)\n",
    "    # s = ''.join([x for j, x in enumerate(a[:-1]) if x != characters[0] and x != a[j+1]])\n",
    "    #s = a.replace('-','')\n",
    "    #print(s)\n",
    "    s =s[s!='-']\n",
    "    if len(s) == 0:\n",
    "        return ''\n",
    "    #if a[-1] != characters[0] and s[-1] != a[-1]:\n",
    "    #    s += a[-1]\n",
    "    return ''.join(s)\n",
    "\n",
    "def decode_target(sequence):\n",
    "    return ''.join([characters[x] for x in sequence]).replace(' ', '')\n",
    "\n",
    "def calc_acc(target, output):\n",
    "    output_argmax = output.detach().permute(1, 0, 2).argmax(dim=-1)\n",
    "    target = target.cpu().numpy()\n",
    "    output_argmax = output_argmax.cpu().numpy()\n",
    "    a = np.array([decode_target(true) == decode(pred) for true, pred in zip(target, output_argmax)])\n",
    "    return a.mean()"
   ]
  },
  {
   "cell_type": "code",
   "execution_count": 9,
   "metadata": {},
   "outputs": [],
   "source": [
    "def train(model, optimizer, epoch, dataloader):\n",
    "    model.train()\n",
    "    loss_mean = 0\n",
    "    acc_mean = 0\n",
    "    with tqdm(dataloader) as pbar:\n",
    "        for batch_index, (data, target, input_lengths, target_lengths) in enumerate(pbar):\n",
    "            data, target, = data.cuda(), target.cuda().int()\n",
    "            #input_lengths, target_lengths = input_lengths.cuda(), target_lengths.cuda()\n",
    "            input_lengths, target_lengths = input_lengths.cuda().reshape(-1), target_lengths.cuda().reshape(-1)\n",
    "            optimizer.zero_grad()\n",
    "            output = model(data)\n",
    "            \n",
    "            output_log_softmax =F.log_softmax(output, dim=-1)\n",
    "            # oneflow的fucntional中没有，需要从nn导入CTCLss类\n",
    "\n",
    "            ctc_loss = nn.CTCLoss()\n",
    "            \n",
    "            #print(output_log_softmax.shape)\n",
    "            #return output_log_softmax, target, input_lengths, target_lengths\n",
    "            #print(output_log_softmax.dtype, target.dtype, input_lengths.dtype, target_lengths.dtype)\n",
    "            loss = ctc_loss(output_log_softmax, target, input_lengths, target_lengths)    \n",
    "            \n",
    "            loss.backward()\n",
    "            optimizer.step()\n",
    "\n",
    "            loss = loss.item()\n",
    "            acc = calc_acc(target, output)\n",
    "            \n",
    "            if batch_index == 0:\n",
    "                loss_mean = loss\n",
    "                acc_mean = acc\n",
    "            \n",
    "            loss_mean = 0.1 * loss + 0.9 * loss_mean\n",
    "            acc_mean = 0.1 * acc + 0.9 * acc_mean\n",
    "            \n",
    "            pbar.set_description(f'Epoch: {epoch} Loss: {loss_mean:.4f} Acc: {acc_mean:.4f} ')\n",
    "\n",
    "def valid(model, optimizer, epoch, dataloader):\n",
    "    model.eval()\n",
    "    with tqdm(dataloader) as pbar, flow.no_grad():\n",
    "        loss_sum = 0\n",
    "        acc_sum = 0\n",
    "        for batch_index, (data, target, input_lengths, target_lengths) in enumerate(pbar):\n",
    "            data, target = data.cuda(), target.cuda().int()\n",
    "            input_lengths, target_lengths = input_lengths.cuda().reshape(-1), target_lengths.cuda().reshape(-1)\n",
    "            output = model(data)\n",
    "            output_log_softmax = F.log_softmax(output, dim=-1)\n",
    "            ctc_loss = nn.CTCLoss()\n",
    "            loss = ctc_loss(output_log_softmax, target, input_lengths, target_lengths)\n",
    "            \n",
    "\n",
    "            loss = loss.item()\n",
    "            acc = calc_acc(target, output)\n",
    "            \n",
    "            loss_sum += loss\n",
    "            acc_sum += acc\n",
    "            \n",
    "            loss_mean = loss_sum / (batch_index + 1)\n",
    "            acc_mean = acc_sum / (batch_index + 1)\n",
    "            \n",
    "            pbar.set_description(f'Test : {epoch} Loss: {loss_mean:.4f} Acc: {acc_mean:.4f} ')"
   ]
  },
  {
   "cell_type": "code",
   "execution_count": 12,
   "metadata": {},
   "outputs": [
    {
     "name": "stderr",
     "output_type": "stream",
     "text": [
      "Epoch: 1 Loss: 0.1559 Acc: 0.8026 : 100%|██████████| 1000/1000 [03:38<00:00,  4.58it/s]\n",
      "Test : 1 Loss: 0.1789 Acc: 0.7827 : 100%|██████████| 100/100 [00:24<00:00,  4.13it/s]\n",
      "Epoch: 2 Loss: 0.0735 Acc: 0.8836 : 100%|██████████| 1000/1000 [03:51<00:00,  4.33it/s]\n",
      "Test : 2 Loss: 0.0763 Acc: 0.8977 : 100%|██████████| 100/100 [00:22<00:00,  4.37it/s]\n"
     ]
    }
   ],
   "source": [
    "optimizer = flow.optim.Adam(model.parameters(), 1e-3, amsgrad=True)\n",
    "epochs = 2\n",
    "for epoch in range(1, epochs + 1):\n",
    "    train(model, optimizer, epoch, train_loader)\n",
    "    valid(model, optimizer, epoch, valid_loader)"
   ]
  },
  {
   "cell_type": "code",
   "execution_count": 13,
   "metadata": {},
   "outputs": [
    {
     "name": "stderr",
     "output_type": "stream",
     "text": [
      "Epoch: 1 Loss: 0.0309 Acc: 0.9379 : 100%|██████████| 1000/1000 [03:48<00:00,  4.38it/s]\n",
      "Test : 1 Loss: 0.0311 Acc: 0.9419 : 100%|██████████| 100/100 [00:23<00:00,  4.20it/s]\n",
      "Epoch: 2 Loss: 0.0232 Acc: 0.9478 : 100%|██████████| 1000/1000 [03:48<00:00,  4.37it/s]\n",
      "Test : 2 Loss: 0.0230 Acc: 0.9534 : 100%|██████████| 100/100 [00:23<00:00,  4.19it/s]\n",
      "Epoch: 3 Loss: 0.0182 Acc: 0.9540 : 100%|██████████| 1000/1000 [03:46<00:00,  4.41it/s]\n",
      "Test : 3 Loss: 0.0201 Acc: 0.9566 : 100%|██████████| 100/100 [00:22<00:00,  4.38it/s]\n"
     ]
    }
   ],
   "source": [
    "optimizer = flow.optim.Adam(model.parameters(), 1e-4, amsgrad=True)\n",
    "epochs = 3\n",
    "for epoch in range(1, epochs + 1):\n",
    "    train(model, optimizer, epoch, train_loader)\n",
    "    valid(model, optimizer, epoch, valid_loader)"
   ]
  },
  {
   "cell_type": "code",
   "execution_count": 15,
   "metadata": {},
   "outputs": [],
   "source": [
    "flow.save(model.state_dict(), \"./model_lower\")"
   ]
  },
  {
   "cell_type": "code",
   "execution_count": 16,
   "metadata": {},
   "outputs": [
    {
     "data": {
      "text/plain": [
       "<All keys matched successfully>"
      ]
     },
     "execution_count": 16,
     "metadata": {},
     "output_type": "execute_result"
    }
   ],
   "source": [
    "params = flow.load(\"./model_lower\")\n",
    "model.load_state_dict(params)"
   ]
  },
  {
   "cell_type": "code",
   "execution_count": 246,
   "metadata": {},
   "outputs": [
    {
     "name": "stdout",
     "output_type": "stream",
     "text": [
      "true: r6hj\n",
      "pred: r6hj\n",
      "true: HXkM\n",
      "pred: HXkM\n",
      "true: C1Hy\n",
      "pred: C1Hy\n",
      "true: BhKG\n",
      "pred: BhKG\n",
      "true: pVTI\n",
      "pred: pVTI\n",
      "true: bBp3\n",
      "pred: bBp3\n",
      "true: 2LDO\n",
      "pred: 2LDO\n",
      "true: eu01\n",
      "pred: eu01\n",
      "true: YG38\n",
      "pred: YG38\n",
      "true: JbsO\n",
      "pred: JbsO\n",
      "true: 0sGL\n",
      "pred: 0sGL\n",
      "true: HO7I\n",
      "pred: HO7I\n",
      "true: BwrZ\n",
      "pred: BwrZ\n",
      "true: Gt3P\n",
      "pred: Gt3P\n",
      "true: HNj4\n",
      "pred: HNj4\n",
      "true: 4EYX\n",
      "pred: 4EYX\n",
      "true: NXUb\n",
      "pred: NXUb\n",
      "true: Zd5A\n",
      "pred: Zd5A\n",
      "true: rA34\n",
      "pred: rA34\n",
      "true: h3rF\n",
      "pred: h3rF\n",
      "true: t0p7\n",
      "pred: t0p7\n",
      "true: GsFx\n",
      "pred: GsFx\n",
      "true: f1gs\n",
      "pred: f1gs\n",
      "true: 7c4o\n",
      "pred: 7c4o\n",
      "true: xBVY\n",
      "pred: xBVY\n",
      "true: GZbQ\n",
      "pred: GZbQ\n",
      "true: C840\n",
      "pred: C840\n",
      "true: 5iVz\n",
      "pred: 5iVz\n",
      "true: 2aIX\n",
      "pred: 2aIX\n",
      "true: 33v8\n",
      "pred: 33V8\n"
     ]
    },
    {
     "data": {
      "image/png": "[encoded data removed]",
      "text/plain": [
       "<PIL.Image.Image image mode=RGB size=192x64>"
      ]
     },
     "execution_count": 246,
     "metadata": {},
     "output_type": "execute_result"
    }
   ],
   "source": [
    "#\n",
    "model.eval()\n",
    "do = True\n",
    "while do or decode_target(target) == decode(output_argmax[0]):\n",
    "    do = False\n",
    "    image, target, input_length, label_length = dataset[0]\n",
    "\n",
    "\n",
    "    \n",
    "    print('true:', decode_target(target))\n",
    "\n",
    "    output = model(image.unsqueeze(0).cuda())\n",
    "    output_argmax = output.detach().permute(1, 0, 2).argmax(dim=-1)\n",
    "    print('pred:', decode(output_argmax[0]))\n",
    "to_pil_image(image)"
   ]
  },
  {
   "cell_type": "code",
   "execution_count": 242,
   "metadata": {},
   "outputs": [
    {
     "data": {
      "image/png": "[encoded data removed]",
      "text/plain": [
       "<PIL.Image.Image image mode=RGB size=192x64>"
      ]
     },
     "execution_count": 242,
     "metadata": {},
     "output_type": "execute_result"
    }
   ],
   "source": [
    " image, target, input_length, label_length = dataset[0]\n",
    " to_pil_image(image)\n"
   ]
  },
  {
   "cell_type": "code",
   "execution_count": 233,
   "metadata": {},
   "outputs": [
    {
     "data": {
      "text/plain": [
       "tensor([[55, 25, 53,  0,  0,  0,  0,  0,  0,  0,  0, 30]], device='cuda:0',\n",
       "       dtype=oneflow.int64)"
      ]
     },
     "execution_count": 233,
     "metadata": {},
     "output_type": "execute_result"
    }
   ],
   "source": [
    "output = model(image.unsqueeze(0).cuda())\n",
    "output_argmax = output.detach().permute(1, 0, 2).argmax(dim=-1)\n",
    "output_argmax"
   ]
  },
  {
   "cell_type": "code",
   "execution_count": 174,
   "metadata": {},
   "outputs": [
    {
     "data": {
      "text/plain": [
       "'JNGG'"
      ]
     },
     "execution_count": 174,
     "metadata": {},
     "output_type": "execute_result"
    }
   ],
   "source": [
    "decode(output_argmax[0])"
   ]
  }
 ],
 "metadata": {
  "kernelspec": {
   "display_name": "Python3.7",
   "language": "python",
   "name": "base"
  },
  "language_info": {
   "codemirror_mode": {
    "name": "ipython",
    "version": 3
   },
   "file_extension": ".py",
   "mimetype": "text/x-python",
   "name": "python",
   "nbconvert_exporter": "python",
   "pygments_lexer": "ipython3",
   "version": "3.7.7"
  }
 },
 "nbformat": 4,
 "nbformat_minor": 2
}
